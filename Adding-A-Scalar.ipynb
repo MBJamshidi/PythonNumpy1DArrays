{
 "cells": [
  {
   "cell_type": "code",
   "execution_count": 1,
   "metadata": {},
   "outputs": [
    {
     "name": "stdout",
     "output_type": "stream",
     "text": [
      "[139 239 208 576  45 -32]\n",
      "[-96 -95 -75 -49 -95 -67]\n",
      "[  4   5 -75 -49   5  33]\n"
     ]
    }
   ],
   "source": [
    "#Numpy\n",
    "#Adding\n",
    "# If we add a scalar value to the array, numpy will add that value to each element\n",
    "\n",
    "import numpy as mult\n",
    "vector1=mult.array([134, 234, 203, 571, 40, -37])\n",
    "vector2=mult.array([4, 5, 25, 51, 5, 33])\n",
    "\n",
    "z=vector1+5\n",
    "print(z)\n",
    "\n",
    "z=vector2-100\n",
    "print(z)\n",
    "\n",
    "vector2[2:4]=vector2[2:4]-100\n",
    "print(vector2)\n"
   ]
  }
 ],
 "metadata": {
  "kernelspec": {
   "display_name": "Python 3",
   "language": "python",
   "name": "python3"
  },
  "language_info": {
   "codemirror_mode": {
    "name": "ipython",
    "version": 3
   },
   "file_extension": ".py",
   "mimetype": "text/x-python",
   "name": "python",
   "nbconvert_exporter": "python",
   "pygments_lexer": "ipython3",
   "version": "3.7.6"
  }
 },
 "nbformat": 4,
 "nbformat_minor": 4
}
