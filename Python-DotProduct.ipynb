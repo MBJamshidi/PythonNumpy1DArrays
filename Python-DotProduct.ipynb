{
 "cells": [
  {
   "cell_type": "code",
   "execution_count": 1,
   "metadata": {},
   "outputs": [
    {
     "name": "stdout",
     "output_type": "stream",
     "text": [
      "\n",
      "Dot Product Result:\n",
      "\n",
      "Dot Product Result v1.v2: 34881\n",
      "\n",
      "Dot Product Result v3.v4: 3285.19\n",
      "\n",
      "Dot Product Result z1.z2: 114590712.39\n"
     ]
    }
   ],
   "source": [
    "\n",
    "#Dot Product\n",
    "#Dot Product\n",
    "#Dot Product\n",
    "#Dot Product\n",
    "#Dot Product\n",
    "#Dot Product\n",
    "import numpy as mult\n",
    "vector1=mult.array([134, 234, 203, 571, 40, -37])\n",
    "vector2=mult.array([4, 5, 25, 51, 5, 33])\n",
    "vector3=mult.array([2, 35, 5, 7,55, 83])\n",
    "vector4=mult.array([34, 55, 2, 91, 5.8, 3.93])\n",
    "\n",
    "print('\\nDot Product Result:')\n",
    "\n",
    "z1=mult.dot(vector1,vector2)\n",
    "print('\\nDot Product Result v1.v2:',z1)\n",
    "\n",
    "z2=mult.dot(vector3,vector4)\n",
    "print('\\nDot Product Result v3.v4:',z2)\n",
    "\n",
    "z3=mult.dot(z1,z2)\n",
    "print('\\nDot Product Result z1.z2:',z3)"
   ]
  }
 ],
 "metadata": {
  "kernelspec": {
   "display_name": "Python 3",
   "language": "python",
   "name": "python3"
  },
  "language_info": {
   "codemirror_mode": {
    "name": "ipython",
    "version": 3
   },
   "file_extension": ".py",
   "mimetype": "text/x-python",
   "name": "python",
   "nbconvert_exporter": "python",
   "pygments_lexer": "ipython3",
   "version": "3.7.6"
  }
 },
 "nbformat": 4,
 "nbformat_minor": 4
}
