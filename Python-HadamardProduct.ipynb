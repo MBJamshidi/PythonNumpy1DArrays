{
 "cells": [
  {
   "cell_type": "code",
   "execution_count": 1,
   "metadata": {},
   "outputs": [
    {
     "name": "stdout",
     "output_type": "stream",
     "text": [
      "\n",
      "Hadamard product: \n",
      " Z= (vector1*vector2)*vector3:\n",
      "[   1072   40950   25375  203847   11000 -101343]\n",
      "\n",
      "Another Method for multiplication Z= (vector1*vector2)*vector3:\n",
      "[1072, 40950, 25375, 203847, 11000, -101343]\n"
     ]
    }
   ],
   "source": [
    "#Hadamard product\n",
    "#Hadamard product\n",
    "#Hadamard product\n",
    "#Hadamard product\n",
    "#Hadamard product is another widely used operation in data science\n",
    "import numpy as mult\n",
    "\n",
    "vector1=mult.array([134, 234, 203, 571, 40, -37])\n",
    "vector2=mult.array([4, 5, 25, 51, 5, 33])\n",
    "vector3=mult.array([2, 35, 5, 7,55, 83])\n",
    "\n",
    "print('\\nHadamard product:','\\n Z= (vector1*vector2)*vector3:')\n",
    "z=(vector1*vector2)*vector3\n",
    "print(z)\n",
    "\n",
    "#Another way for Hadamard product\n",
    "vector1=mult.array([134, 234, 203, 571, 40, -37])\n",
    "vector2=mult.array([4, 5, 25, 51, 5, 33])\n",
    "vector3=mult.array([2, 35, 5, 7,55, 83])\n",
    "z=[]\n",
    "print('\\nAnother Method for multiplication Z= (vector1*vector2)*vector3:')\n",
    "for n,m,k in zip(vector1, vector2,vector3):\n",
    "    z.append((n*m)*k)\n",
    "print(z)\n"
   ]
  }
 ],
 "metadata": {
  "kernelspec": {
   "display_name": "Python 3",
   "language": "python",
   "name": "python3"
  },
  "language_info": {
   "codemirror_mode": {
    "name": "ipython",
    "version": 3
   },
   "file_extension": ".py",
   "mimetype": "text/x-python",
   "name": "python",
   "nbconvert_exporter": "python",
   "pygments_lexer": "ipython3",
   "version": "3.7.6"
  }
 },
 "nbformat": 4,
 "nbformat_minor": 4
}
