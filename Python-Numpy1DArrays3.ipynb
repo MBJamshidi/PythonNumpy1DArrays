{
 "cells": [
  {
   "cell_type": "code",
   "execution_count": 1,
   "metadata": {},
   "outputs": [
    {
     "name": "stdout",
     "output_type": "stream",
     "text": [
      "\n",
      "Vector multiplication Ex1:\n",
      "[ 268  468  406 1142   80  -74]\n",
      "\n",
      "Vector multiplication Ex2:\n",
      "[ 18 315  45  63 495 747]\n",
      "\n",
      "Vector multiplication Ex3:\n",
      "[ 12  15  75 153  15  99]\n",
      "\n",
      "Another Method for multiplication Ex 1:\n",
      "[268, 468, 406, 1142, 80, -74]\n",
      "\n",
      "Another Method for multiplication Ex 2:\n",
      "[268, 468, 406, 1142, 80, -74, 16, 20, 100, 204, 20, 132]\n",
      "\n",
      "Another Method for multiplication Ex 3:\n",
      "[268, 468, 406, 1142, 80, -74, 16, 20, 100, 204, 20, 132, 16, 280, 40, 56, 440, 664]\n"
     ]
    }
   ],
   "source": [
    "#Numpy\n",
    "#Vector multiplication\n",
    "#Vector multiplication with a Scalar is another commonly performed operation\n",
    "import numpy as mult\n",
    "\n",
    "vector1=mult.array([134, 234, 203, 571, 40, -37])\n",
    "vector2=mult.array([4, 5, 25, 51, 5, 33])\n",
    "vector3=mult.array([2, 35, 5, 7,55, 83])\n",
    "\n",
    "print('\\nVector multiplication Ex1:')\n",
    "z=2*vector1\n",
    "print(z)\n",
    "\n",
    "print('\\nVector multiplication Ex2:')\n",
    "z=9*vector3\n",
    "print(z)\n",
    "\n",
    "\n",
    "print('\\nVector multiplication Ex3:')\n",
    "z=3*vector2\n",
    "print(z)\n",
    "\n",
    "#Another Method for multiplication\n",
    "z=[]\n",
    "print('\\nAnother Method for multiplication Ex 1:')\n",
    "for n in vector1:\n",
    "    z.append(2*n)\n",
    "print(z)\n",
    "\n",
    "print('\\nAnother Method for multiplication Ex 2:')\n",
    "for n in vector2:\n",
    "    z.append(4*n)\n",
    "print(z)\n",
    "\n",
    "print('\\nAnother Method for multiplication Ex 3:')\n",
    "for n in vector3:\n",
    "    z.append(8*n)\n",
    "print(z)\n"
   ]
  }
 ],
 "metadata": {
  "kernelspec": {
   "display_name": "Python 3",
   "language": "python",
   "name": "python3"
  },
  "language_info": {
   "codemirror_mode": {
    "name": "ipython",
    "version": 3
   },
   "file_extension": ".py",
   "mimetype": "text/x-python",
   "name": "python",
   "nbconvert_exporter": "python",
   "pygments_lexer": "ipython3",
   "version": "3.7.6"
  }
 },
 "nbformat": 4,
 "nbformat_minor": 4
}
